{
  "cells": [
    {
      "cell_type": "markdown",
      "id": "e3895b81",
      "metadata": {
        "deletable": false,
        "editable": false,
        "nbgrader": {
          "cell_type": "markdown",
          "checksum": "317096ab3749644280bcbdb5aeb91254",
          "grade": false,
          "grade_id": "cell-f58e10aaf72965dd",
          "locked": true,
          "schema_version": 3,
          "solution": false,
          "task": false
        },
        "id": "e3895b81"
      },
      "source": [
        "# Data Science - Unit 1 Sprint 3\n",
        "\n",
        "## Sprint Challenge - Linear Algebra"
      ]
    },
    {
      "cell_type": "markdown",
      "id": "83aa737d",
      "metadata": {
        "deletable": false,
        "editable": false,
        "nbgrader": {
          "cell_type": "markdown",
          "checksum": "558f331caa508b0a6bf7d4dd464c7e91",
          "grade": false,
          "grade_id": "cell-0234294a36472548",
          "locked": true,
          "schema_version": 3,
          "solution": false,
          "task": false
        },
        "id": "83aa737d"
      },
      "source": [
        "## Welcome to the final Sprint Challenge of Unit 1!\n",
        "\n",
        "In this challenge, we're going to explore two different datasets where you can demonstrate your skills with fitting linear regression models and practicing some of the linear algebra concepts you learned.\n",
        "\n",
        "**Make sure to follow the instructions in each task carefully!** The autograded tests are very specific in that they are designed to test on the exact instructions.\n",
        "\n",
        "Good luck!\n"
      ]
    },
    {
      "cell_type": "markdown",
      "id": "ff53860d",
      "metadata": {
        "deletable": false,
        "editable": false,
        "nbgrader": {
          "cell_type": "markdown",
          "checksum": "95b01a8876dc36672e96f6facfab6d88",
          "grade": false,
          "grade_id": "cell-2ff6a7fb46e99cff",
          "locked": true,
          "schema_version": 3,
          "solution": false,
          "task": false
        },
        "id": "ff53860d"
      },
      "source": [
        "## Part A: Linear Regression\n",
        "\n",
        "### Use the following information to complete Tasks 1 - 11\n",
        "\n",
        "### Dataset description\n",
        "\n",
        "The data you will work on for this Sprint Challenge is from the World Happiness Report. The report compiles data from a survey of hundreds of countries and looks at factors such as economic production, social support, life expectancy, freedom, absence of corruption, and generosity to determine a happiness \"score\". \n",
        "\n",
        "In this Sprint Challenge, we're only going to look at the report for years 2018 and 2019. We're going to see how much the happiness \"score\" depends on some of the factors listed above.\n",
        "\n",
        "For more information about the data, you can look here: [Kaggle: World Happiness Report](https://www.kaggle.com/unsdsn/world-happiness)"
      ]
    },
    {
      "cell_type": "markdown",
      "id": "280dcfdc",
      "metadata": {
        "deletable": false,
        "editable": false,
        "nbgrader": {
          "cell_type": "markdown",
          "checksum": "d2a70f70326f16794761c05528ff829b",
          "grade": false,
          "grade_id": "cell-a35750bfc3481af3",
          "locked": true,
          "schema_version": 3,
          "solution": false,
          "task": false
        },
        "id": "280dcfdc"
      },
      "source": [
        "### Task 1 - Load the data\n",
        "\n",
        "* import both `pandas` and `numpy`\n",
        "* use the URL provided to read in your DataFrame\n",
        "* load the CSV file as a DataFrame with the name `happy`.\n",
        "* the shape of your DataFrame should be `(312, 8)`"
      ]
    },
    {
      "cell_type": "code",
      "execution_count": 146,
      "id": "af3af2bf",
      "metadata": {
        "deletable": false,
        "nbgrader": {
          "cell_type": "code",
          "checksum": "c319dda77afbf5af4e00f6993ec945c8",
          "grade": false,
          "grade_id": "cell-f1a80be29ed2136b",
          "locked": false,
          "schema_version": 3,
          "solution": true,
          "task": false
        },
        "colab": {
          "base_uri": "https://localhost:8080/",
          "height": 206
        },
        "id": "af3af2bf",
        "outputId": "a1a7aa35-1398-4d7d-8908-6acb5b6047cc"
      },
      "outputs": [
        {
          "output_type": "execute_result",
          "data": {
            "text/plain": [
              "   Overall_rank Country_region  Score  GDP_per_capita  Social_support  \\\n",
              "0             1        Finland  7.632           1.305           1.592   \n",
              "1             2         Norway  7.594           1.456           1.582   \n",
              "2             3        Denmark  7.555           1.351           1.590   \n",
              "3             4        Iceland  7.495           1.343           1.644   \n",
              "4             5    Switzerland  7.487           1.420           1.549   \n",
              "\n",
              "   Healthy_life_expectancy  Freedom_life_choices  Generosity  \\\n",
              "0                    0.874                 0.681       0.202   \n",
              "1                    0.861                 0.686       0.286   \n",
              "2                    0.868                 0.683       0.284   \n",
              "3                    0.914                 0.677       0.353   \n",
              "4                    0.927                 0.660       0.256   \n",
              "\n",
              "   Perceptions_corruption  \n",
              "0                   0.393  \n",
              "1                     NaN  \n",
              "2                     NaN  \n",
              "3                   0.138  \n",
              "4                   0.357  "
            ],
            "text/html": [
              "\n",
              "  <div id=\"df-ee6b95f0-6f04-4082-9581-a8e1e791eea0\">\n",
              "    <div class=\"colab-df-container\">\n",
              "      <div>\n",
              "<style scoped>\n",
              "    .dataframe tbody tr th:only-of-type {\n",
              "        vertical-align: middle;\n",
              "    }\n",
              "\n",
              "    .dataframe tbody tr th {\n",
              "        vertical-align: top;\n",
              "    }\n",
              "\n",
              "    .dataframe thead th {\n",
              "        text-align: right;\n",
              "    }\n",
              "</style>\n",
              "<table border=\"1\" class=\"dataframe\">\n",
              "  <thead>\n",
              "    <tr style=\"text-align: right;\">\n",
              "      <th></th>\n",
              "      <th>Overall_rank</th>\n",
              "      <th>Country_region</th>\n",
              "      <th>Score</th>\n",
              "      <th>GDP_per_capita</th>\n",
              "      <th>Social_support</th>\n",
              "      <th>Healthy_life_expectancy</th>\n",
              "      <th>Freedom_life_choices</th>\n",
              "      <th>Generosity</th>\n",
              "      <th>Perceptions_corruption</th>\n",
              "    </tr>\n",
              "  </thead>\n",
              "  <tbody>\n",
              "    <tr>\n",
              "      <th>0</th>\n",
              "      <td>1</td>\n",
              "      <td>Finland</td>\n",
              "      <td>7.632</td>\n",
              "      <td>1.305</td>\n",
              "      <td>1.592</td>\n",
              "      <td>0.874</td>\n",
              "      <td>0.681</td>\n",
              "      <td>0.202</td>\n",
              "      <td>0.393</td>\n",
              "    </tr>\n",
              "    <tr>\n",
              "      <th>1</th>\n",
              "      <td>2</td>\n",
              "      <td>Norway</td>\n",
              "      <td>7.594</td>\n",
              "      <td>1.456</td>\n",
              "      <td>1.582</td>\n",
              "      <td>0.861</td>\n",
              "      <td>0.686</td>\n",
              "      <td>0.286</td>\n",
              "      <td>NaN</td>\n",
              "    </tr>\n",
              "    <tr>\n",
              "      <th>2</th>\n",
              "      <td>3</td>\n",
              "      <td>Denmark</td>\n",
              "      <td>7.555</td>\n",
              "      <td>1.351</td>\n",
              "      <td>1.590</td>\n",
              "      <td>0.868</td>\n",
              "      <td>0.683</td>\n",
              "      <td>0.284</td>\n",
              "      <td>NaN</td>\n",
              "    </tr>\n",
              "    <tr>\n",
              "      <th>3</th>\n",
              "      <td>4</td>\n",
              "      <td>Iceland</td>\n",
              "      <td>7.495</td>\n",
              "      <td>1.343</td>\n",
              "      <td>1.644</td>\n",
              "      <td>0.914</td>\n",
              "      <td>0.677</td>\n",
              "      <td>0.353</td>\n",
              "      <td>0.138</td>\n",
              "    </tr>\n",
              "    <tr>\n",
              "      <th>4</th>\n",
              "      <td>5</td>\n",
              "      <td>Switzerland</td>\n",
              "      <td>7.487</td>\n",
              "      <td>1.420</td>\n",
              "      <td>1.549</td>\n",
              "      <td>0.927</td>\n",
              "      <td>0.660</td>\n",
              "      <td>0.256</td>\n",
              "      <td>0.357</td>\n",
              "    </tr>\n",
              "  </tbody>\n",
              "</table>\n",
              "</div>\n",
              "      <button class=\"colab-df-convert\" onclick=\"convertToInteractive('df-ee6b95f0-6f04-4082-9581-a8e1e791eea0')\"\n",
              "              title=\"Convert this dataframe to an interactive table.\"\n",
              "              style=\"display:none;\">\n",
              "        \n",
              "  <svg xmlns=\"http://www.w3.org/2000/svg\" height=\"24px\"viewBox=\"0 0 24 24\"\n",
              "       width=\"24px\">\n",
              "    <path d=\"M0 0h24v24H0V0z\" fill=\"none\"/>\n",
              "    <path d=\"M18.56 5.44l.94 2.06.94-2.06 2.06-.94-2.06-.94-.94-2.06-.94 2.06-2.06.94zm-11 1L8.5 8.5l.94-2.06 2.06-.94-2.06-.94L8.5 2.5l-.94 2.06-2.06.94zm10 10l.94 2.06.94-2.06 2.06-.94-2.06-.94-.94-2.06-.94 2.06-2.06.94z\"/><path d=\"M17.41 7.96l-1.37-1.37c-.4-.4-.92-.59-1.43-.59-.52 0-1.04.2-1.43.59L10.3 9.45l-7.72 7.72c-.78.78-.78 2.05 0 2.83L4 21.41c.39.39.9.59 1.41.59.51 0 1.02-.2 1.41-.59l7.78-7.78 2.81-2.81c.8-.78.8-2.07 0-2.86zM5.41 20L4 18.59l7.72-7.72 1.47 1.35L5.41 20z\"/>\n",
              "  </svg>\n",
              "      </button>\n",
              "      \n",
              "  <style>\n",
              "    .colab-df-container {\n",
              "      display:flex;\n",
              "      flex-wrap:wrap;\n",
              "      gap: 12px;\n",
              "    }\n",
              "\n",
              "    .colab-df-convert {\n",
              "      background-color: #E8F0FE;\n",
              "      border: none;\n",
              "      border-radius: 50%;\n",
              "      cursor: pointer;\n",
              "      display: none;\n",
              "      fill: #1967D2;\n",
              "      height: 32px;\n",
              "      padding: 0 0 0 0;\n",
              "      width: 32px;\n",
              "    }\n",
              "\n",
              "    .colab-df-convert:hover {\n",
              "      background-color: #E2EBFA;\n",
              "      box-shadow: 0px 1px 2px rgba(60, 64, 67, 0.3), 0px 1px 3px 1px rgba(60, 64, 67, 0.15);\n",
              "      fill: #174EA6;\n",
              "    }\n",
              "\n",
              "    [theme=dark] .colab-df-convert {\n",
              "      background-color: #3B4455;\n",
              "      fill: #D2E3FC;\n",
              "    }\n",
              "\n",
              "    [theme=dark] .colab-df-convert:hover {\n",
              "      background-color: #434B5C;\n",
              "      box-shadow: 0px 1px 3px 1px rgba(0, 0, 0, 0.15);\n",
              "      filter: drop-shadow(0px 1px 2px rgba(0, 0, 0, 0.3));\n",
              "      fill: #FFFFFF;\n",
              "    }\n",
              "  </style>\n",
              "\n",
              "      <script>\n",
              "        const buttonEl =\n",
              "          document.querySelector('#df-ee6b95f0-6f04-4082-9581-a8e1e791eea0 button.colab-df-convert');\n",
              "        buttonEl.style.display =\n",
              "          google.colab.kernel.accessAllowed ? 'block' : 'none';\n",
              "\n",
              "        async function convertToInteractive(key) {\n",
              "          const element = document.querySelector('#df-ee6b95f0-6f04-4082-9581-a8e1e791eea0');\n",
              "          const dataTable =\n",
              "            await google.colab.kernel.invokeFunction('convertToInteractive',\n",
              "                                                     [key], {});\n",
              "          if (!dataTable) return;\n",
              "\n",
              "          const docLinkHtml = 'Like what you see? Visit the ' +\n",
              "            '<a target=\"_blank\" href=https://colab.research.google.com/notebooks/data_table.ipynb>data table notebook</a>'\n",
              "            + ' to learn more about interactive tables.';\n",
              "          element.innerHTML = '';\n",
              "          dataTable['output_type'] = 'display_data';\n",
              "          await google.colab.output.renderOutput(dataTable, element);\n",
              "          const docLink = document.createElement('div');\n",
              "          docLink.innerHTML = docLinkHtml;\n",
              "          element.appendChild(docLink);\n",
              "        }\n",
              "      </script>\n",
              "    </div>\n",
              "  </div>\n",
              "  "
            ]
          },
          "metadata": {},
          "execution_count": 146
        }
      ],
      "source": [
        "# Task 1\n",
        "\n",
        "# URL provided\n",
        "url = \"https://raw.githubusercontent.com/LambdaSchool/data-science-practice-datasets/main/unit_1/Happy/happiness_years18_19.csv\"\n",
        "\n",
        "# YOUR CODE HERE\n",
        "#imports\n",
        "import pandas as pd\n",
        "import numpy as np\n",
        "#load csv\n",
        "happy = pd.read_csv(url)\n",
        "\n",
        "\n",
        "# Print out the DataFrame\n",
        "happy.head()\n",
        "#happy.shape"
      ]
    },
    {
      "cell_type": "code",
      "execution_count": 147,
      "id": "5f349ff1",
      "metadata": {
        "deletable": false,
        "editable": false,
        "nbgrader": {
          "cell_type": "code",
          "checksum": "027ce1ae824f890c0f5eecf9969db439",
          "grade": true,
          "grade_id": "cell-2705155963a7f7ee",
          "locked": true,
          "points": 1,
          "schema_version": 3,
          "solution": false,
          "task": false
        },
        "id": "5f349ff1"
      },
      "outputs": [],
      "source": [
        "# Task 1 - Test\n",
        "\n",
        "assert isinstance(happy, pd.DataFrame), 'Have you created a DataFrame named `happy`?'\n",
        "assert len(happy) == 312\n"
      ]
    },
    {
      "cell_type": "markdown",
      "id": "0e61f53e",
      "metadata": {
        "deletable": false,
        "editable": false,
        "nbgrader": {
          "cell_type": "markdown",
          "checksum": "9cf857b9577db43e0d9559a45f20804f",
          "grade": false,
          "grade_id": "cell-757df11f4f0c5b11",
          "locked": true,
          "schema_version": 3,
          "solution": false,
          "task": false
        },
        "id": "0e61f53e"
      },
      "source": [
        "**Task 2** - Explore the data and find NaNs\n",
        "\n",
        "Now you want to take a look at the dataset, determine the variable types of the columns, identify missing values, and generally better understand your data.\n",
        "\n",
        "**Your tasks**\n",
        "\n",
        "* Use describe() to learn about any missing values, the data types, and descriptive statistics for each numeric value\n",
        "* Determine the total number of null values, assign that value to the variable `num_null`."
      ]
    },
    {
      "cell_type": "code",
      "execution_count": 148,
      "id": "119577ef",
      "metadata": {
        "deletable": false,
        "nbgrader": {
          "cell_type": "code",
          "checksum": "e12732463b1d7c58035d259cf846c0f9",
          "grade": false,
          "grade_id": "cell-7bd9d697a65a5dc0",
          "locked": false,
          "schema_version": 3,
          "solution": true,
          "task": false
        },
        "colab": {
          "base_uri": "https://localhost:8080/"
        },
        "id": "119577ef",
        "outputId": "96dcc249-2d36-41e3-c7c4-2eb724072aac"
      },
      "outputs": [
        {
          "output_type": "stream",
          "name": "stdout",
          "text": [
            "       Overall_rank       Score  GDP_per_capita  Social_support  \\\n",
            "count    312.000000  312.000000      312.000000      312.000000   \n",
            "mean      78.500000    5.391506        0.898298        1.211026   \n",
            "std       45.104737    1.114631        0.394592        0.300310   \n",
            "min        1.000000    2.853000        0.000000        0.000000   \n",
            "25%       39.750000    4.514250        0.609500        1.055750   \n",
            "50%       78.500000    5.379500        0.960000        1.265500   \n",
            "75%      117.250000    6.176000        1.219500        1.457500   \n",
            "max      156.000000    7.769000        2.096000        1.644000   \n",
            "\n",
            "       Healthy_life_expectancy  Freedom_life_choices  Generosity  \\\n",
            "count               312.000000            312.000000  312.000000   \n",
            "mean                  0.661295              0.423538    0.182926   \n",
            "std                   0.252724              0.156024    0.096739   \n",
            "min                   0.000000              0.000000    0.000000   \n",
            "25%                   0.488250              0.322500    0.108750   \n",
            "50%                   0.699000              0.449500    0.175500   \n",
            "75%                   0.858000              0.540250    0.245000   \n",
            "max                   1.141000              0.724000    0.598000   \n",
            "\n",
            "       Perceptions_corruption  \n",
            "count                86.00000  \n",
            "mean                  0.10900  \n",
            "std                   0.09613  \n",
            "min                   0.00000  \n",
            "25%                   0.03900  \n",
            "50%                   0.07900  \n",
            "75%                   0.13725  \n",
            "max                   0.39300  \n",
            "The total number of null values is: 226\n"
          ]
        }
      ],
      "source": [
        "# Task 2\n",
        "\n",
        "# YOUR CODE HERE\n",
        "print(happy.describe())\n",
        "\n",
        "num_null = happy.isnull().sum().sum() #sum of all column sums\n",
        "\n",
        "# Print out your integer result\n",
        "print(\"The total number of null values is:\", num_null)"
      ]
    },
    {
      "cell_type": "code",
      "execution_count": 149,
      "id": "8153dba2",
      "metadata": {
        "deletable": false,
        "editable": false,
        "nbgrader": {
          "cell_type": "code",
          "checksum": "1bd202ac1541caafb55043ccf6d0439b",
          "grade": true,
          "grade_id": "cell-63b9e97cc9499e3b",
          "locked": true,
          "points": 1,
          "schema_version": 3,
          "solution": false,
          "task": false
        },
        "id": "8153dba2"
      },
      "outputs": [],
      "source": [
        "# Task 2 - Test\n",
        "import numpy as np\n",
        "assert isinstance(num_null, np.int64), 'The sum of the NaN values should be an integer.'\n"
      ]
    },
    {
      "cell_type": "markdown",
      "id": "b2aabdca",
      "metadata": {
        "deletable": false,
        "editable": false,
        "nbgrader": {
          "cell_type": "markdown",
          "checksum": "2c6e3f3a5cc582cb08baa7785749a537",
          "grade": false,
          "grade_id": "cell-7d5ca1f6328d3ddf",
          "locked": true,
          "schema_version": 3,
          "solution": false,
          "task": false
        },
        "id": "b2aabdca"
      },
      "source": [
        "**Task 3** - Calculate Nulls\n",
        "\n",
        "As you may have noticed in the previous task, the column `Perceptions_corruption` has a lot of missing values. What is the percentage of missing values in that column? \n",
        "\n",
        "\n",
        "* Calculate the percentage of NaN values in `Perceptions_corruption` and assign the result to the variable `corruption_nan`; the value should be a **float** between `0.0` and `100.0`."
      ]
    },
    {
      "cell_type": "code",
      "execution_count": 150,
      "id": "8c60192e",
      "metadata": {
        "deletable": false,
        "nbgrader": {
          "cell_type": "code",
          "checksum": "79e9200ccd07d12686421e6f02918926",
          "grade": false,
          "grade_id": "cell-2e67f2f9c09478cb",
          "locked": false,
          "schema_version": 3,
          "solution": true,
          "task": false
        },
        "colab": {
          "base_uri": "https://localhost:8080/"
        },
        "id": "8c60192e",
        "outputId": "d78964e6-08f9-41e1-9991-8536d7861b49"
      },
      "outputs": [
        {
          "output_type": "stream",
          "name": "stdout",
          "text": [
            "72.43589743589743\n"
          ]
        }
      ],
      "source": [
        "# Task 3\n",
        "\n",
        "# YOUR CODE HERE\n",
        "# ratio % = nan column sum / column length (%)\n",
        "corruption_nan = 100 * happy['Perceptions_corruption'].isna().sum() / len(happy['Perceptions_corruption'])\n",
        "\n",
        "# Print the percentage of NaN values\n",
        "print(corruption_nan)\n"
      ]
    },
    {
      "cell_type": "code",
      "execution_count": 151,
      "id": "065ab2b0",
      "metadata": {
        "deletable": false,
        "editable": false,
        "nbgrader": {
          "cell_type": "code",
          "checksum": "1960ad4c13179db1312cd4905ca639fe",
          "grade": true,
          "grade_id": "cell-ea33612447f59937",
          "locked": true,
          "points": 1,
          "schema_version": 3,
          "solution": false,
          "task": false
        },
        "id": "065ab2b0"
      },
      "outputs": [],
      "source": [
        "# Task 3- Test\n",
        "\n",
        "assert isinstance(corruption_nan, float), 'The percentage of NaN values should be a float.'\n",
        "assert corruption_nan >= 1, 'Make sure you calculated the percentage and not the decimal fraction.'\n"
      ]
    },
    {
      "cell_type": "markdown",
      "id": "5c3ac777",
      "metadata": {
        "deletable": false,
        "editable": false,
        "nbgrader": {
          "cell_type": "markdown",
          "checksum": "1976479b49f26f0d6a3c9decbdc52a38",
          "grade": false,
          "grade_id": "cell-ebc7d4d22a46465b",
          "locked": true,
          "schema_version": 3,
          "solution": false,
          "task": false
        },
        "id": "5c3ac777"
      },
      "source": [
        "**Task 4 -** Nulls\n",
        "\n",
        "There are a few different approaches we can take when we have null values in our dataset: \n",
        "* We can choose to drop the column or null values. (Not always the best approach)\n",
        "* We can do additional research to find out why those values are missing. \n",
        "* We can impute the missing values with new values. \n",
        "\n",
        "For this next task, you will take the third step and impute the missing values in `Perceptions_corrption` with a value \n",
        "that makes sense to you. Describe your reasoning in the following markdown cell. "
      ]
    },
    {
      "cell_type": "code",
      "execution_count": 152,
      "id": "03c29fab",
      "metadata": {
        "deletable": false,
        "nbgrader": {
          "cell_type": "code",
          "checksum": "f55d8891788ca3cd903d69eb9c494d45",
          "grade": false,
          "grade_id": "cell-6f59b2bc20e14d98",
          "locked": false,
          "schema_version": 3,
          "solution": true,
          "task": false
        },
        "id": "03c29fab"
      },
      "outputs": [],
      "source": [
        "# Task 4\n",
        "\n",
        "# YOUR CODE HERE\n",
        "#using happy['Perceptions_corruption'].mean()\n",
        "impute_missing = happy['Perceptions_corruption'].mean()\n",
        "happy.loc[happy['Perceptions_corruption'].isna(), ['Perceptions_corruption']] = impute_missing #from missing rows, get elements in column\n",
        "#happy.tail()"
      ]
    },
    {
      "cell_type": "markdown",
      "id": "d775d7ef",
      "metadata": {
        "deletable": false,
        "editable": false,
        "nbgrader": {
          "cell_type": "markdown",
          "checksum": "d8ade59b897f1041bdb11b66fb741d1c",
          "grade": false,
          "grade_id": "cell-d69faac90e0d31a3",
          "locked": true,
          "points": 0,
          "schema_version": 3,
          "solution": false,
          "task": true
        },
        "id": "d775d7ef"
      },
      "source": [
        "**Task 4 Written answer:**\n",
        "\n",
        "Your Answer Here: "
      ]
    },
    {
      "cell_type": "markdown",
      "source": [
        "Replacing missing values with the mean of the values that are present maintains the original mean of the column, at the cost of some of its variance. Still, this allows us to use all of the column in subsequent models without introducing bias or math artifacts from zero or null values"
      ],
      "metadata": {
        "id": "CKIgIjoupDA9"
      },
      "id": "CKIgIjoupDA9"
    },
    {
      "cell_type": "code",
      "execution_count": 153,
      "id": "861c6a39",
      "metadata": {
        "deletable": false,
        "editable": false,
        "nbgrader": {
          "cell_type": "code",
          "checksum": "9c83548fc91e6ea21f8440b63be5a1a2",
          "grade": true,
          "grade_id": "cell-9eb6ab022348547c",
          "locked": true,
          "points": 1,
          "schema_version": 3,
          "solution": false,
          "task": false
        },
        "id": "861c6a39"
      },
      "outputs": [],
      "source": [
        "# Task 4 - Test\n",
        "\n",
        "assert happy.isna().sum().sum() == 0, \"Do you still have null values in 'Perceptions_corruption' column?\"\n",
        "# Hidden tests - you will see the results when you submit to Canvas"
      ]
    },
    {
      "cell_type": "markdown",
      "id": "9e3d0a3e",
      "metadata": {
        "deletable": false,
        "editable": false,
        "nbgrader": {
          "cell_type": "markdown",
          "checksum": "da1a4a9d8b5c0f0d3b6a00addb989d2a",
          "grade": false,
          "grade_id": "cell-6bc34395bc7dcdfb",
          "locked": true,
          "schema_version": 3,
          "solution": false,
          "task": false
        },
        "id": "9e3d0a3e"
      },
      "source": [
        "##### **Task 5** - Visualize the dataset\n",
        "\n",
        "Next, we'll create a visualization for this dataset. We know from the introduction that we're trying to predict the happiness score from the other factors. Before we do let, let's visualize the dataset using a seaborn `pairplot` to look at all of the columns plotted as \"pairs\".\n",
        "\n",
        "**Your tasks**\n",
        "\n",
        "* Use the seaborn library `sns.pairplot()` function to create your visualization (use the starter code provided)\n",
        "\n",
        "This task will not be autograded - but it is part of completing the challenge."
      ]
    },
    {
      "cell_type": "code",
      "execution_count": 119,
      "id": "c9fd3ec3",
      "metadata": {
        "deletable": false,
        "nbgrader": {
          "cell_type": "code",
          "checksum": "59ca75f42e425a16c40291ecb2240bba",
          "grade": true,
          "grade_id": "cell-db0eb4d5ae8b9a7e",
          "locked": false,
          "points": 0,
          "schema_version": 3,
          "solution": true,
          "task": false
        },
        "id": "c9fd3ec3"
      },
      "outputs": [],
      "source": [
        "# Task 5\n",
        "\n",
        "# Import seaborn\n",
        "import seaborn as sns\n",
        "\n",
        "\n",
        "# YOUR CODE HERE\n",
        "#pairplots shaded by country rank\n",
        "#commented out to speed up autograding \n",
        "#sns.pairplot(happy, hue='Overall_rank') \n",
        "\n"
      ]
    },
    {
      "cell_type": "markdown",
      "id": "687e2135",
      "metadata": {
        "deletable": false,
        "editable": false,
        "nbgrader": {
          "cell_type": "markdown",
          "checksum": "78bebe1ad7f8aaca4b0dee403783cd29",
          "grade": false,
          "grade_id": "cell-33fb2d6047ffeaf5",
          "locked": true,
          "schema_version": 3,
          "solution": false,
          "task": false
        },
        "id": "687e2135"
      },
      "source": [
        "**Task 6** - Choose your dependent and independent variables\n",
        "\n",
        "Before we fit a linear regression to the variables in this data set, we need to determine the dependent variable (the target or y variable) and independent variable (the feature or x variable). For this dataset, we have one dependent variable and a few choices for the independent variable(s). Using the information about the data set and what you know from previous tasks, complete the following:\n",
        "\n",
        "* Assign the dependent variable to `y_var`\n",
        "* Choose **one** independent variable and assign it to `x_var`"
      ]
    },
    {
      "cell_type": "code",
      "execution_count": 154,
      "id": "4fae9a21",
      "metadata": {
        "deletable": false,
        "nbgrader": {
          "cell_type": "code",
          "checksum": "8dd5983f99723d6aad961ecedb052c8c",
          "grade": false,
          "grade_id": "cell-d26be23c92844c4c",
          "locked": false,
          "schema_version": 3,
          "solution": true,
          "task": false
        },
        "id": "4fae9a21"
      },
      "outputs": [],
      "source": [
        "# Task 6\n",
        "\n",
        "# YOUR CODE HERE\n",
        "#score value is the obvious choice of dep. variable looking at the plots\n",
        "y_var = happy['Score']\n",
        "#GDP looks like it has the strongest correlation, followed by \n",
        "#life exp. social services and freedom\n",
        "x_var = happy['GDP_per_capita']\n"
      ]
    },
    {
      "cell_type": "markdown",
      "id": "c8c76490",
      "metadata": {
        "deletable": false,
        "editable": false,
        "nbgrader": {
          "cell_type": "markdown",
          "checksum": "249fd73123b201b778ded2e69da892bd",
          "grade": false,
          "grade_id": "cell-9a4ab3a4c5bfdb43",
          "locked": true,
          "schema_version": 3,
          "solution": false,
          "task": false
        },
        "id": "c8c76490"
      },
      "source": [
        "**Task 6 Test**"
      ]
    },
    {
      "cell_type": "code",
      "execution_count": 121,
      "id": "a7213ad0",
      "metadata": {
        "deletable": false,
        "editable": false,
        "nbgrader": {
          "cell_type": "code",
          "checksum": "82c7c3c49c4887fbb45039dd5b2a6cde",
          "grade": true,
          "grade_id": "cell-b055ed975e478676",
          "locked": true,
          "points": 1,
          "schema_version": 3,
          "solution": false,
          "task": false
        },
        "id": "a7213ad0"
      },
      "outputs": [],
      "source": [
        "# Task 6 - Test\n",
        "\n",
        "# Hidden tests - you will see the results when you submit to Canvas"
      ]
    },
    {
      "cell_type": "markdown",
      "id": "ec2a608a",
      "metadata": {
        "deletable": false,
        "editable": false,
        "nbgrader": {
          "cell_type": "markdown",
          "checksum": "a57c26dc8ce81e8aea4c42c9d054bb4b",
          "grade": false,
          "grade_id": "cell-ed907c95da151458",
          "locked": true,
          "schema_version": 3,
          "solution": false,
          "task": false
        },
        "id": "ec2a608a"
      },
      "source": [
        "**Task 7** - Fit a line using seaborn\n",
        "\n",
        "Before we fit the linear regression model, we'll check how well a line fits. Because you have some choices for which independent variable to select, we're going to complete the rest of our analysis using `GDP per capita` as the independent variable, and using `Score` as the dependent (target) variable.\n",
        "\n",
        "**Your tasks:**\n",
        "\n",
        "* Create a scatter plot using seaborn with `GDP_per_capita` and `Score`\n",
        "* Use `sns.lmplot()` and Assign this to an object called `seaborn_line`\n",
        "* Answer the questions about your plot (not autograded).\n"
      ]
    },
    {
      "cell_type": "code",
      "execution_count": 155,
      "id": "88d85c10",
      "metadata": {
        "deletable": false,
        "nbgrader": {
          "cell_type": "code",
          "checksum": "3e8cbff6b104749ddfe75e0d04d0ee6d",
          "grade": false,
          "grade_id": "cell-3b68e509e5896df8",
          "locked": false,
          "schema_version": 3,
          "solution": true,
          "task": false
        },
        "colab": {
          "base_uri": "https://localhost:8080/",
          "height": 369
        },
        "id": "88d85c10",
        "outputId": "b5239c0a-6050-482d-ae96-63a63ccfb23a"
      },
      "outputs": [
        {
          "output_type": "display_data",
          "data": {
            "text/plain": [
              "<Figure size 360x360 with 1 Axes>"
            ],
            "image/png": "[encoded data removed]"
          },
          "metadata": {
            "needs_background": "light"
          }
        }
      ],
      "source": [
        "# Task 7\n",
        "import matplotlib.pyplot as plt\n",
        "# YOUR CODE HERE\n",
        "seaborn_line = sns.lmplot(x='GDP_per_capita', y='Score', data=happy)"
      ]
    },
    {
      "cell_type": "code",
      "execution_count": 123,
      "id": "6d82ffc7",
      "metadata": {
        "deletable": false,
        "editable": false,
        "nbgrader": {
          "cell_type": "code",
          "checksum": "f4fc8668bfbe2d70945a317c60944bc7",
          "grade": true,
          "grade_id": "cell-458677297846204a",
          "locked": true,
          "points": 1,
          "schema_version": 3,
          "solution": false,
          "task": false
        },
        "id": "6d82ffc7"
      },
      "outputs": [],
      "source": [
        "# Task 7 - Test\n",
        "\n",
        "# Hidden tests - you will see the results when you submit to Canvas"
      ]
    },
    {
      "cell_type": "markdown",
      "id": "0598148b",
      "metadata": {
        "deletable": false,
        "editable": false,
        "nbgrader": {
          "cell_type": "markdown",
          "checksum": "f1239ed62af0e64d3adb08f56d8476b8",
          "grade": false,
          "grade_id": "cell-edf591b481857b69",
          "locked": true,
          "points": 0,
          "schema_version": 3,
          "solution": false,
          "task": true
        },
        "id": "0598148b"
      },
      "source": [
        "**Task 7** - Short answer\n",
        "\n",
        "1. Does it make sense to fit a linear model to these two variables? In other words, are there any problems with this data like extreme outliers, non-linearity, etc.\n",
        "2. Over what range of your independent variable does the linear model not fit the data well? Over what range does a line fit the data well?\n"
      ]
    },
    {
      "cell_type": "markdown",
      "id": "9d8a6f2d",
      "metadata": {
        "deletable": false,
        "editable": false,
        "nbgrader": {
          "cell_type": "markdown",
          "checksum": "8e471812109fa5eaacc7bd3031787595",
          "grade": false,
          "grade_id": "cell-ae45b862cc2a6907",
          "locked": true,
          "points": 0,
          "schema_version": 3,
          "solution": false,
          "task": true
        },
        "id": "9d8a6f2d"
      },
      "source": [
        "Your Answer Here: "
      ]
    },
    {
      "cell_type": "markdown",
      "source": [
        "1.) The linear fit for this data seems reasonable, barring a few outliers evident on the plot. The line of best fit runs through most of the clusters of points on the plot, but not all, suggesting there might be a better fit available.\n",
        "\n",
        "2.) The model seems to fit the data best in the .25 - 1.25 x-value range, where points are both closer to the line and there is roughly even amounts above and below the prediction. Below this range there is more heteroscedasticity and above it the score values veer upwards, with th emajority clustering above the prediction line."
      ],
      "metadata": {
        "id": "3RxNwOXpyilh"
      },
      "id": "3RxNwOXpyilh"
    },
    {
      "cell_type": "markdown",
      "id": "a074e84b",
      "metadata": {
        "deletable": false,
        "editable": false,
        "nbgrader": {
          "cell_type": "markdown",
          "checksum": "4a593dd3e8a2985be50d7b9e9a6b6c41",
          "grade": false,
          "grade_id": "cell-4518bf14e0040fb2",
          "locked": true,
          "schema_version": 3,
          "solution": false,
          "task": false
        },
        "id": "a074e84b"
      },
      "source": [
        "**Task 8** - Fit a linear regression model\n",
        "\n",
        "Now it's time to fit the linear regression model! We have two variables (`GDP_per_capita` and `Score`) that we are going to use in our model.\n",
        "\n",
        "**Your tasks:**\n",
        "\n",
        "*  Use the provided import for the `statsmodels.formula.api` library `ols` method\n",
        "*  Fit a **single variable linear regression model** and assign the model to the variable `model_1`\n",
        "* Print out the model summary and assign the value of R-squared for this model to `r_square_model_1`. Your value should be defined to three decimal places (example: `r_square_model_1 = 0.123`)\n"
      ]
    },
    {
      "cell_type": "code",
      "execution_count": 135,
      "id": "1809395f",
      "metadata": {
        "deletable": false,
        "nbgrader": {
          "cell_type": "code",
          "checksum": "4777bc894ab05c47c634914c030e0162",
          "grade": false,
          "grade_id": "cell-dbf9594e492ccd24",
          "locked": false,
          "schema_version": 3,
          "solution": true,
          "task": false
        },
        "colab": {
          "base_uri": "https://localhost:8080/"
        },
        "id": "1809395f",
        "outputId": "a049741f-1696-42b7-c573-3da4cd99fd33"
      },
      "outputs": [
        {
          "output_type": "stream",
          "name": "stdout",
          "text": [
            "                            OLS Regression Results                            \n",
            "==============================================================================\n",
            "Dep. Variable:                  Score   R-squared:                       0.906\n",
            "Model:                            OLS   Adj. R-squared:                  0.906\n",
            "Method:                 Least Squares   F-statistic:                     2982.\n",
            "Date:                Fri, 29 Apr 2022   Prob (F-statistic):          4.36e-161\n",
            "Time:                        21:56:33   Log-Likelihood:                -363.59\n",
            "No. Observations:                 312   AIC:                             731.2\n",
            "Df Residuals:                     310   BIC:                             738.7\n",
            "Df Model:                           1                                         \n",
            "Covariance Type:            nonrobust                                         \n",
            "==================================================================================\n",
            "                     coef    std err          t      P>|t|      [0.025      0.975]\n",
            "----------------------------------------------------------------------------------\n",
            "Intercept         -0.3207      0.057     -5.658      0.000      -0.432      -0.209\n",
            "GDP_per_capita     5.7141      0.105     54.605      0.000       5.508       5.920\n",
            "==============================================================================\n",
            "Omnibus:                      218.263   Durbin-Watson:                   1.919\n",
            "Prob(Omnibus):                  0.000   Jarque-Bera (JB):             2074.008\n",
            "Skew:                           2.892   Prob(JB):                         0.00\n",
            "Kurtosis:                      14.229   Cond. No.                         2.70\n",
            "==============================================================================\n",
            "\n",
            "Warnings:\n",
            "[1] Standard Errors assume that the covariance matrix of the errors is correctly specified.\n"
          ]
        }
      ],
      "source": [
        "# Task 8\n",
        "\n",
        "# Import the OLS model from statsmodels\n",
        "from statsmodels.formula.api import ols\n",
        "\n",
        "# YOUR CODE HERE\n",
        "#fit score versus GDP model\n",
        "model_1 = ols(\"Score ~ GDP_per_capita\", data=happy).fit()\n",
        "#extract r-square from model\n",
        "r_square_model_1 = model_1.rsquared.round(3)\n",
        "\n",
        "# Print the model summary\n",
        "print(model_1.summary())"
      ]
    },
    {
      "cell_type": "code",
      "execution_count": 125,
      "id": "6174b995",
      "metadata": {
        "deletable": false,
        "editable": false,
        "nbgrader": {
          "cell_type": "code",
          "checksum": "f250c5273a79f6b870e64413651005c1",
          "grade": true,
          "grade_id": "cell-d65d85270cd5409b",
          "locked": true,
          "points": 1,
          "schema_version": 3,
          "solution": false,
          "task": false
        },
        "id": "6174b995"
      },
      "outputs": [],
      "source": [
        "#Task 8 - Test\n",
        "\n",
        "# Hidden tests - you will see the results when you submit to Canvas"
      ]
    },
    {
      "cell_type": "markdown",
      "id": "75c07d16",
      "metadata": {
        "deletable": false,
        "editable": false,
        "nbgrader": {
          "cell_type": "markdown",
          "checksum": "a364ba1760af7eade184021fded295a5",
          "grade": false,
          "grade_id": "cell-e7ad6f194e91d421",
          "locked": true,
          "schema_version": 3,
          "solution": false,
          "task": false
        },
        "id": "75c07d16"
      },
      "source": [
        "**Task 9** - Interpret your model\n",
        "\n",
        "Using the model summary you printed out above, answer the following questions.\n",
        "\n",
        "* Assign the slope of `GDP_per_capita` to the variable `slope_model_1`; define it to two decimal places (example: 1.23). This variable should be a float.\n",
        "* Assign the p-value for this model parameter to `pval_model_1`.\n",
        "* Assign the 95% confidence interval to the variables `ci_low` (lower value) and `ci_upper` (upper value); define them to two decimal places.\n",
        "\n"
      ]
    },
    {
      "cell_type": "code",
      "execution_count": 126,
      "id": "e6fb24b6",
      "metadata": {
        "deletable": false,
        "nbgrader": {
          "cell_type": "code",
          "checksum": "bd3986a701ab642a33dda3b65b0f937f",
          "grade": false,
          "grade_id": "cell-a964b9c7fd55f7c5",
          "locked": false,
          "schema_version": 3,
          "solution": true,
          "task": false
        },
        "id": "e6fb24b6"
      },
      "outputs": [],
      "source": [
        "# Task 9\n",
        "\n",
        "# YOUR CODE HERE\n",
        "#extract slope from params\n",
        "slope_model_1 = model_1.params[1].round(2)\n",
        "#extract slope p-value from pvalues\n",
        "pval_model_1 = model_1.pvalues[1]\n",
        "#extract ci vals from conf int function (default is 95% interval)\n",
        "ci_low, ci_upper = model_1.conf_int().loc['GDP_per_capita'].round(2)"
      ]
    },
    {
      "cell_type": "code",
      "execution_count": 127,
      "id": "aa3d546b",
      "metadata": {
        "deletable": false,
        "editable": false,
        "nbgrader": {
          "cell_type": "code",
          "checksum": "b83e989430b2224a0413a97f26f3342a",
          "grade": true,
          "grade_id": "cell-358d73b530fa55b8",
          "locked": true,
          "points": 1,
          "schema_version": 3,
          "solution": false,
          "task": false
        },
        "id": "aa3d546b"
      },
      "outputs": [],
      "source": [
        "# Task 9 - Test\n",
        "\n",
        "# Hidden tests - you will see the results when you submit to Canvas"
      ]
    },
    {
      "cell_type": "markdown",
      "id": "06bd02a8",
      "metadata": {
        "deletable": false,
        "editable": false,
        "nbgrader": {
          "cell_type": "markdown",
          "checksum": "ce209734c007eaa976184750a6baac88",
          "grade": false,
          "grade_id": "cell-792dc64eb02567cb",
          "locked": true,
          "schema_version": 3,
          "solution": false,
          "task": false
        },
        "id": "06bd02a8"
      },
      "source": [
        "**Task 10** - Fit a multiple predictor linear regression model\n",
        "\n",
        "For this next task, we'll add in an additional independent or predictor variable. Let's look back at the pairplot and choose another variable - we'll use `Social_support`. Recall from the Guided Projects and Module Projects that we are looking to see if adding the variable `Social_support` is statistically significant after accounting for the `GDP_per_capita` variable.\n",
        "\n",
        "Fit a linear regression model using two predictor variables: `GDP_per_capita` and `Social_support`.\n",
        "\n",
        "**Your tasks:**\n",
        "\n",
        "* Fit a model with both predictor variables and assign the model to `model_2`.\n",
        "* Print out the model summary and assign the value of R-squared for this model to `r_square_model_2`. Your value should be defined to three decimal places.\n",
        "* Assign the value of the adjusted R-square to `adj_r_square_model_2`. Your value should be defined to three decimal places."
      ]
    },
    {
      "cell_type": "code",
      "execution_count": 128,
      "id": "12774ac4",
      "metadata": {
        "deletable": false,
        "nbgrader": {
          "cell_type": "code",
          "checksum": "ed53bcf7a8abb4348948d5457d8ac7ff",
          "grade": false,
          "grade_id": "cell-ccb857faace3a504",
          "locked": false,
          "schema_version": 3,
          "solution": true,
          "task": false
        },
        "id": "12774ac4",
        "colab": {
          "base_uri": "https://localhost:8080/"
        },
        "outputId": "8a4f7558-e734-4922-d7dd-4935d80caf9a"
      },
      "outputs": [
        {
          "output_type": "stream",
          "name": "stdout",
          "text": [
            "                            OLS Regression Results                            \n",
            "==============================================================================\n",
            "Dep. Variable:                  Score   R-squared:                       0.975\n",
            "Model:                            OLS   Adj. R-squared:                  0.975\n",
            "Method:                 Least Squares   F-statistic:                     5992.\n",
            "Date:                Fri, 29 Apr 2022   Prob (F-statistic):          7.08e-248\n",
            "Time:                        21:54:10   Log-Likelihood:                -157.54\n",
            "No. Observations:                 312   AIC:                             321.1\n",
            "Df Residuals:                     309   BIC:                             332.3\n",
            "Df Model:                           2                                         \n",
            "Covariance Type:            nonrobust                                         \n",
            "==================================================================================\n",
            "                     coef    std err          t      P>|t|      [0.025      0.975]\n",
            "----------------------------------------------------------------------------------\n",
            "Intercept         -0.3806      0.029    -12.940      0.000      -0.438      -0.323\n",
            "GDP_per_capita     0.6174      0.183      3.371      0.001       0.257       0.978\n",
            "Social_support     4.2356      0.145     29.132      0.000       3.950       4.522\n",
            "==============================================================================\n",
            "Omnibus:                      154.111   Durbin-Watson:                   2.171\n",
            "Prob(Omnibus):                  0.000   Jarque-Bera (JB):             1670.581\n",
            "Skew:                           1.746   Prob(JB):                         0.00\n",
            "Kurtosis:                      13.785   Cond. No.                         12.1\n",
            "==============================================================================\n",
            "\n",
            "Warnings:\n",
            "[1] Standard Errors assume that the covariance matrix of the errors is correctly specified.\n"
          ]
        }
      ],
      "source": [
        "# Task 10\n",
        "\n",
        "# YOUR CODE HERE\n",
        "#fit expanded model w/ social support feature\n",
        "model_2 = ols(\"Score ~ GDP_per_capita + Social_support\", data=happy).fit()\n",
        "#assign the r2 values from model summary\n",
        "r_square_model_2 = model_2.rsquared.round(3)\n",
        "adj_r_square_model_2 = model_2.rsquared_adj.round(3)\n",
        "\n",
        "# Print the model summary\n",
        "print(model_2.summary())"
      ]
    },
    {
      "cell_type": "code",
      "execution_count": 129,
      "id": "8d236a90",
      "metadata": {
        "deletable": false,
        "editable": false,
        "nbgrader": {
          "cell_type": "code",
          "checksum": "e01782912b9415f488cdd18e8272a711",
          "grade": true,
          "grade_id": "cell-5297aae8d9abe718",
          "locked": true,
          "points": 1,
          "schema_version": 3,
          "solution": false,
          "task": false
        },
        "id": "8d236a90"
      },
      "outputs": [],
      "source": [
        "# Task 10 - Test\n",
        "\n",
        "# Hidden tests - you will see the results when you submit to Canvas"
      ]
    },
    {
      "cell_type": "markdown",
      "id": "498e544e",
      "metadata": {
        "deletable": false,
        "editable": false,
        "nbgrader": {
          "cell_type": "markdown",
          "checksum": "b95c4d8bc1f10bf651bbd24422a0adc4",
          "grade": false,
          "grade_id": "cell-b0b66ec96a2837fb",
          "locked": true,
          "schema_version": 3,
          "solution": false,
          "task": false
        },
        "id": "498e544e"
      },
      "source": [
        "**Task 11** - Making a prediction and calculating the residual\n",
        "\n",
        "We're going to use our model to make a prediction. Refer to the `happy` DataFrame and find the `GDP_per_capita` score for \"Iceland\" (index 4).  Then when we have a prediction, we can calculate the residual.  **There are actually two row entries for Iceland, both with slightly different column values. Use the column values that you can see when you print `happy.head()`.**\n",
        "\n",
        "**Prediction**\n",
        "* Assign the `GDP_per_capita` value to the variable `x_iceland`; it should be float and defined out to two decimal places.\n",
        "* Using your slope and intercept values from `model_1`, calculate the `Score` for Iceland (`x_iceland`); assign this value to `predict_iceland` and it should be a float.\n",
        "\n",
        "**Residual**\n",
        "* Assign the observed `Score` for Iceland and assign it to the variable `observe_iceland`; it should be float and defined out to two decimal places *(careful with the rounding!)*.\n",
        "* Determine the residual for the prediction you made and assign it to the variable `residual_iceland` (use your Guided Project or Module Project notebooks if you need a reminder of how to do a residual calculation).\n",
        "\n",
        "Hint: Define your slope and intercept values out to two decimal places! Your resulting prediction for Iceland should have at least two decimal places. **Make sure to use the parameters from the first model (`model_1`)**."
      ]
    },
    {
      "cell_type": "code",
      "execution_count": 129,
      "id": "742d1c39",
      "metadata": {
        "id": "742d1c39"
      },
      "outputs": [],
      "source": [
        ""
      ]
    },
    {
      "cell_type": "code",
      "execution_count": 130,
      "id": "fab2e42b",
      "metadata": {
        "deletable": false,
        "nbgrader": {
          "cell_type": "code",
          "checksum": "a6d0eb7fdbd09d62102ed8a843f30c37",
          "grade": false,
          "grade_id": "cell-486affa58df700a6",
          "locked": false,
          "schema_version": 3,
          "solution": true,
          "task": false
        },
        "id": "fab2e42b",
        "colab": {
          "base_uri": "https://localhost:8080/"
        },
        "outputId": "2b45ed8d-e34a-4cf9-b8e1-eaaf8858f1a6"
      },
      "outputs": [
        {
          "output_type": "stream",
          "name": "stdout",
          "text": [
            "Prediction for Iceland : 7.336108235508586\n",
            "Residual for Iceland prediction : 0.16389176449141374\n"
          ]
        }
      ],
      "source": [
        "# Task 11\n",
        "\n",
        "# YOUR CODE HERE\n",
        "#Assign the correct GDP value for Iceland from happy.head()\n",
        "x_iceland = happy.at[3, 'GDP_per_capita'].round(2)\n",
        "\n",
        "#calculate prediction y=b+mx using model_1 params [intercept, slope]\n",
        "predict_iceland = model_1.params[0] + model_1.params[1] * x_iceland\n",
        "\n",
        "#get table value and calculate residual\n",
        "observe_iceland = happy.at[3, 'Score'].round(2)\n",
        "residual_iceland = observe_iceland - predict_iceland\n",
        "\n",
        "# View your prediction\n",
        "print('Prediction for Iceland :', predict_iceland)\n",
        "print('Residual for Iceland prediction :', residual_iceland)"
      ]
    },
    {
      "cell_type": "code",
      "execution_count": 131,
      "id": "2e0eda78",
      "metadata": {
        "deletable": false,
        "editable": false,
        "nbgrader": {
          "cell_type": "code",
          "checksum": "0305be838155547edec48ead76031a9f",
          "grade": true,
          "grade_id": "cell-8b8658d631163250",
          "locked": true,
          "points": 1,
          "schema_version": 3,
          "solution": false,
          "task": false
        },
        "id": "2e0eda78"
      },
      "outputs": [],
      "source": [
        "# Task 11 - Test\n",
        "\n",
        "assert residual_iceland >= 0, 'Check your residual calculation (use observed - predicted).'\n",
        "assert round(x_iceland, 1) == 1.3, 'Check your Iceland GDP value.'\n",
        "assert round(observe_iceland, 1) == 7.5, 'Check your Iceland observation value for \"Score\".'\n",
        "\n",
        "# Hidden tests - you will see the results when you submit to Canvas"
      ]
    },
    {
      "cell_type": "markdown",
      "id": "c6068ada",
      "metadata": {
        "deletable": false,
        "editable": false,
        "nbgrader": {
          "cell_type": "markdown",
          "checksum": "a950534a4e97758779b6e1b23ebf5446",
          "grade": false,
          "grade_id": "cell-49403e417036197c",
          "locked": true,
          "schema_version": 3,
          "solution": false,
          "task": false
        },
        "id": "c6068ada"
      },
      "source": [
        "## Part B: Vectors and cosine similarity\n",
        "\n",
        "In this part of the challenge, we're going to look at how similar two vectors are. Remember, we can calculate the **cosine similarity** between two vectors by using this equation:\n",
        "\n",
        "$$\\cos \\theta= \\frac{\\mathbf {A} \\cdot \\mathbf {B} }{\\left\\|\\mathbf {A} \\right\\|\\left\\|\\mathbf {B} \\right\\|}$$\n",
        "\n",
        "$\\qquad$\n",
        "\n",
        "where\n",
        "\n",
        "* The numerator is the dot product of the vectors $\\mathbf {A}$ and $\\mathbf {B}$\n",
        "* The denominator is the norm of $\\mathbf {A}$ times the norm of $\\mathbf {B}$\n",
        "\n",
        "### Three documents, two authors\n",
        "\n",
        "For this task, you will calculate the cosine similarity between three vectors. But here's the interesting part: each vector represents a \"chunk\" of text from a novel (a few chapters of text). This text was cleaned to remove non-alphanumeric characters and numbers and then each document was transformed into a vector representation as described below.\n",
        "\n",
        "### Document vectors\n",
        "\n",
        "In the dataset you are going to load below, each row represents a word that occurs in at least one of the documents. So all the rows are all the words that are in our three documents.\n",
        "\n",
        "Each column represents a document (doc0, doc1, doc2). Now the fun part: the value in each cell is how frequently that word (row) occurs in that document (term-frequency) divided by how many documents that words appears in (document-frequency).\n",
        "\n",
        "`cell value = term_frequency / document_frequency`\n",
        "\n",
        "Use the above information to complete the remaining tasks."
      ]
    },
    {
      "cell_type": "markdown",
      "id": "fbd0ff84",
      "metadata": {
        "deletable": false,
        "editable": false,
        "nbgrader": {
          "cell_type": "markdown",
          "checksum": "f487b034509c9f7c6e8393608f083612",
          "grade": false,
          "grade_id": "cell-f4fb08daef47cce5",
          "locked": true,
          "schema_version": 3,
          "solution": false,
          "task": false
        },
        "id": "fbd0ff84"
      },
      "source": [
        "**Task 12** - Explore the text documents\n",
        "\n",
        "You will be using cosine similarity to compare each document vector to the others. Remember that there are three documents, but two authors. Your task is to use the cosine similarity calculations to determine which two document vectors are most similar (written by the same author).\n",
        "\n",
        "**Your tasks:**\n",
        "\n",
        "* Load in the CSV file that contains the document vectors (this is coded for you - just run the cell)\n",
        "* Look at the DataFrame you just loaded in any way that helps you understand the format, what's included in the data, the shape of the DataFrame, etc.\n",
        "\n",
        "**You can use document vectors just as they are - you don't need to code anything for Task 12.**"
      ]
    },
    {
      "cell_type": "code",
      "execution_count": 132,
      "id": "cc32e03e",
      "metadata": {
        "deletable": false,
        "editable": false,
        "nbgrader": {
          "cell_type": "code",
          "checksum": "0b8cad30e8dc6782487005a897cea497",
          "grade": false,
          "grade_id": "cell-94928b6ed63efcf0",
          "locked": true,
          "schema_version": 3,
          "solution": false,
          "task": false
        },
        "id": "cc32e03e",
        "colab": {
          "base_uri": "https://localhost:8080/",
          "height": 206
        },
        "outputId": "3732a0fd-4de0-4962-831f-7c0e248414a3"
      },
      "outputs": [
        {
          "output_type": "execute_result",
          "data": {
            "text/plain": [
              "   Unnamed: 0       word  doc0      doc1      doc2\n",
              "0           0  abhorrent   0.0  0.000000  0.008915\n",
              "1           1    ability   0.0  0.021156  0.000000\n",
              "2           2     abject   0.0  0.000000  0.008915\n",
              "3           3       able   0.0  0.000000  0.017829\n",
              "4           4      abode   0.0  0.042313  0.000000"
            ],
            "text/html": [
              "\n",
              "  <div id=\"df-78f4c6be-6aef-4ef4-a0f0-3a1c5a34810c\">\n",
              "    <div class=\"colab-df-container\">\n",
              "      <div>\n",
              "<style scoped>\n",
              "    .dataframe tbody tr th:only-of-type {\n",
              "        vertical-align: middle;\n",
              "    }\n",
              "\n",
              "    .dataframe tbody tr th {\n",
              "        vertical-align: top;\n",
              "    }\n",
              "\n",
              "    .dataframe thead th {\n",
              "        text-align: right;\n",
              "    }\n",
              "</style>\n",
              "<table border=\"1\" class=\"dataframe\">\n",
              "  <thead>\n",
              "    <tr style=\"text-align: right;\">\n",
              "      <th></th>\n",
              "      <th>Unnamed: 0</th>\n",
              "      <th>word</th>\n",
              "      <th>doc0</th>\n",
              "      <th>doc1</th>\n",
              "      <th>doc2</th>\n",
              "    </tr>\n",
              "  </thead>\n",
              "  <tbody>\n",
              "    <tr>\n",
              "      <th>0</th>\n",
              "      <td>0</td>\n",
              "      <td>abhorrent</td>\n",
              "      <td>0.0</td>\n",
              "      <td>0.000000</td>\n",
              "      <td>0.008915</td>\n",
              "    </tr>\n",
              "    <tr>\n",
              "      <th>1</th>\n",
              "      <td>1</td>\n",
              "      <td>ability</td>\n",
              "      <td>0.0</td>\n",
              "      <td>0.021156</td>\n",
              "      <td>0.000000</td>\n",
              "    </tr>\n",
              "    <tr>\n",
              "      <th>2</th>\n",
              "      <td>2</td>\n",
              "      <td>abject</td>\n",
              "      <td>0.0</td>\n",
              "      <td>0.000000</td>\n",
              "      <td>0.008915</td>\n",
              "    </tr>\n",
              "    <tr>\n",
              "      <th>3</th>\n",
              "      <td>3</td>\n",
              "      <td>able</td>\n",
              "      <td>0.0</td>\n",
              "      <td>0.000000</td>\n",
              "      <td>0.017829</td>\n",
              "    </tr>\n",
              "    <tr>\n",
              "      <th>4</th>\n",
              "      <td>4</td>\n",
              "      <td>abode</td>\n",
              "      <td>0.0</td>\n",
              "      <td>0.042313</td>\n",
              "      <td>0.000000</td>\n",
              "    </tr>\n",
              "  </tbody>\n",
              "</table>\n",
              "</div>\n",
              "      <button class=\"colab-df-convert\" onclick=\"convertToInteractive('df-78f4c6be-6aef-4ef4-a0f0-3a1c5a34810c')\"\n",
              "              title=\"Convert this dataframe to an interactive table.\"\n",
              "              style=\"display:none;\">\n",
              "        \n",
              "  <svg xmlns=\"http://www.w3.org/2000/svg\" height=\"24px\"viewBox=\"0 0 24 24\"\n",
              "       width=\"24px\">\n",
              "    <path d=\"M0 0h24v24H0V0z\" fill=\"none\"/>\n",
              "    <path d=\"M18.56 5.44l.94 2.06.94-2.06 2.06-.94-2.06-.94-.94-2.06-.94 2.06-2.06.94zm-11 1L8.5 8.5l.94-2.06 2.06-.94-2.06-.94L8.5 2.5l-.94 2.06-2.06.94zm10 10l.94 2.06.94-2.06 2.06-.94-2.06-.94-.94-2.06-.94 2.06-2.06.94z\"/><path d=\"M17.41 7.96l-1.37-1.37c-.4-.4-.92-.59-1.43-.59-.52 0-1.04.2-1.43.59L10.3 9.45l-7.72 7.72c-.78.78-.78 2.05 0 2.83L4 21.41c.39.39.9.59 1.41.59.51 0 1.02-.2 1.41-.59l7.78-7.78 2.81-2.81c.8-.78.8-2.07 0-2.86zM5.41 20L4 18.59l7.72-7.72 1.47 1.35L5.41 20z\"/>\n",
              "  </svg>\n",
              "      </button>\n",
              "      \n",
              "  <style>\n",
              "    .colab-df-container {\n",
              "      display:flex;\n",
              "      flex-wrap:wrap;\n",
              "      gap: 12px;\n",
              "    }\n",
              "\n",
              "    .colab-df-convert {\n",
              "      background-color: #E8F0FE;\n",
              "      border: none;\n",
              "      border-radius: 50%;\n",
              "      cursor: pointer;\n",
              "      display: none;\n",
              "      fill: #1967D2;\n",
              "      height: 32px;\n",
              "      padding: 0 0 0 0;\n",
              "      width: 32px;\n",
              "    }\n",
              "\n",
              "    .colab-df-convert:hover {\n",
              "      background-color: #E2EBFA;\n",
              "      box-shadow: 0px 1px 2px rgba(60, 64, 67, 0.3), 0px 1px 3px 1px rgba(60, 64, 67, 0.15);\n",
              "      fill: #174EA6;\n",
              "    }\n",
              "\n",
              "    [theme=dark] .colab-df-convert {\n",
              "      background-color: #3B4455;\n",
              "      fill: #D2E3FC;\n",
              "    }\n",
              "\n",
              "    [theme=dark] .colab-df-convert:hover {\n",
              "      background-color: #434B5C;\n",
              "      box-shadow: 0px 1px 3px 1px rgba(0, 0, 0, 0.15);\n",
              "      filter: drop-shadow(0px 1px 2px rgba(0, 0, 0, 0.3));\n",
              "      fill: #FFFFFF;\n",
              "    }\n",
              "  </style>\n",
              "\n",
              "      <script>\n",
              "        const buttonEl =\n",
              "          document.querySelector('#df-78f4c6be-6aef-4ef4-a0f0-3a1c5a34810c button.colab-df-convert');\n",
              "        buttonEl.style.display =\n",
              "          google.colab.kernel.accessAllowed ? 'block' : 'none';\n",
              "\n",
              "        async function convertToInteractive(key) {\n",
              "          const element = document.querySelector('#df-78f4c6be-6aef-4ef4-a0f0-3a1c5a34810c');\n",
              "          const dataTable =\n",
              "            await google.colab.kernel.invokeFunction('convertToInteractive',\n",
              "                                                     [key], {});\n",
              "          if (!dataTable) return;\n",
              "\n",
              "          const docLinkHtml = 'Like what you see? Visit the ' +\n",
              "            '<a target=\"_blank\" href=https://colab.research.google.com/notebooks/data_table.ipynb>data table notebook</a>'\n",
              "            + ' to learn more about interactive tables.';\n",
              "          element.innerHTML = '';\n",
              "          dataTable['output_type'] = 'display_data';\n",
              "          await google.colab.output.renderOutput(dataTable, element);\n",
              "          const docLink = document.createElement('div');\n",
              "          docLink.innerHTML = docLinkHtml;\n",
              "          element.appendChild(docLink);\n",
              "        }\n",
              "      </script>\n",
              "    </div>\n",
              "  </div>\n",
              "  "
            ]
          },
          "metadata": {},
          "execution_count": 132
        }
      ],
      "source": [
        "# Imports\n",
        "import pandas as pd\n",
        "\n",
        "# Load the data\n",
        "url = 'https://raw.githubusercontent.com/LambdaSchool/data-science-practice-datasets/main/unit_4/unit1_nlp/text_vectors.csv'\n",
        "text = pd.read_csv(url)\n",
        "\n",
        "text.head()\n"
      ]
    },
    {
      "cell_type": "markdown",
      "id": "257bc535",
      "metadata": {
        "deletable": false,
        "editable": false,
        "nbgrader": {
          "cell_type": "markdown",
          "checksum": "2b7e0fb1b5ca3f76d06a8f703e09d45e",
          "grade": false,
          "grade_id": "cell-ff5c602854832d11",
          "locked": true,
          "schema_version": 3,
          "solution": false,
          "task": false
        },
        "id": "257bc535"
      },
      "source": [
        "**Task 12** - Calculate cosine similarity\n",
        "\n",
        "* Calculate the cosine similarity for **three pairs of vectors** and assign the results to the following variables (each variable will be a float):\n",
        "\n",
        "  * assign the cosine similarity of doc0-doc1 to `cosine_doc0_1`\n",
        "  * assign the cosine similarity of doc0-doc2 to `cosine_doc0_2`\n",
        "  * assign the cosine similarity of doc1-doc2 to `cosine_doc1_2`\n",
        "\n",
        "* Print out the results so you can refer to them for the short answer section.\n",
        "* Answer the questions after you have completed the cosine similarity calculations."
      ]
    },
    {
      "cell_type": "code",
      "execution_count": 133,
      "id": "dfabef6c",
      "metadata": {
        "deletable": false,
        "nbgrader": {
          "cell_type": "code",
          "checksum": "5d92c8c54db12ae26d58d3a3a0fc84ba",
          "grade": false,
          "grade_id": "cell-b8e0827adc3a522d",
          "locked": false,
          "schema_version": 3,
          "solution": true,
          "task": false
        },
        "id": "dfabef6c",
        "colab": {
          "base_uri": "https://localhost:8080/"
        },
        "outputId": "8d64d184-6312-480d-adeb-fd226621239d"
      },
      "outputs": [
        {
          "output_type": "stream",
          "name": "stdout",
          "text": [
            "Cosine similarity for doc0-doc1: 0.1296380132160884\n",
            "Cosine similarity for doc0-doc2: 0.09904444112880126\n",
            "Cosine similarity for doc1-doc2: 0.3217125279237164\n"
          ]
        }
      ],
      "source": [
        "# Task 12\n",
        "\n",
        "# Use these imports for your cosine calculations (DON'T DELETE)\n",
        "from numpy import dot\n",
        "from numpy.linalg import norm\n",
        "\n",
        "# YOUR CODE HERE\n",
        "#0-1 similarity\n",
        "cosine_doc0_1 = dot(text['doc0'], text['doc1']) / (norm(text['doc0']) * norm(text['doc1']))\n",
        "#0-2 similarity\n",
        "cosine_doc0_2 = dot(text['doc0'], text['doc2']) / (norm(text['doc0']) * norm(text['doc2']))\n",
        "#1-2 similarity\n",
        "cosine_doc1_2 = dot(text['doc1'], text['doc2']) / (norm(text['doc1']) * norm(text['doc2']))\n",
        "\n",
        "# Print out the results\n",
        "print('Cosine similarity for doc0-doc1:', cosine_doc0_1)\n",
        "print('Cosine similarity for doc0-doc2:', cosine_doc0_2)\n",
        "print('Cosine similarity for doc1-doc2:', cosine_doc1_2)\n"
      ]
    },
    {
      "cell_type": "markdown",
      "id": "01e4e1f1",
      "metadata": {
        "deletable": false,
        "editable": false,
        "nbgrader": {
          "cell_type": "markdown",
          "checksum": "59cd1945b4f8ab5e7191e1e251da2c40",
          "grade": false,
          "grade_id": "cell-313808d09077d5ff",
          "locked": true,
          "points": 0,
          "schema_version": 3,
          "solution": false,
          "task": true
        },
        "id": "01e4e1f1"
      },
      "source": [
        "**Task 12** - Short answer\n",
        "\n",
        "1. Using your cosine similarity calculations, which two documents are most similar?\n",
        "2. If doc1 and doc2 were written by the same author, are your cosine similarity calculations consistent with this statement?\n",
        "3. What process would we need to follow to add an additional document column? In other words, why can't we just stick another column with (term-frequency/document-frequency) values onto our current DataFrame `text`?\n"
      ]
    },
    {
      "cell_type": "markdown",
      "id": "d7813c15",
      "metadata": {
        "deletable": false,
        "editable": false,
        "nbgrader": {
          "cell_type": "markdown",
          "checksum": "b7147ae561d30b405150d8332d48a3ef",
          "grade": false,
          "grade_id": "cell-9250658fe17db036",
          "locked": true,
          "points": 0,
          "schema_version": 3,
          "solution": false,
          "task": true
        },
        "id": "d7813c15"
      },
      "source": [
        "\n",
        "Your Answer Here: "
      ]
    },
    {
      "cell_type": "markdown",
      "source": [
        "1.) Documents 1 and 2 are most similar, based on their calculated cosine similarity values.\n",
        "\n",
        "2.) A higher cosine similarity value is consistent with texts from the same author, so docs 1 and 2 being from the same author is consistent with our results. \n",
        "\n",
        "3.) To add a new document column we would need to re-calculate the frequency values in the existing columns, as the total number of documents in the document-frequency denominator will be increased, affecting the proportions of term frequencies across all documents."
      ],
      "metadata": {
        "id": "-LnB_nxBK6wG"
      },
      "id": "-LnB_nxBK6wG"
    },
    {
      "cell_type": "code",
      "execution_count": 134,
      "id": "7696127d",
      "metadata": {
        "deletable": false,
        "editable": false,
        "nbgrader": {
          "cell_type": "code",
          "checksum": "8710271c7c13844d770cd3c7de8c0042",
          "grade": true,
          "grade_id": "cell-06109d0f4c5533d1",
          "locked": true,
          "points": 1,
          "schema_version": 3,
          "solution": false,
          "task": false
        },
        "id": "7696127d"
      },
      "outputs": [],
      "source": [
        "# Task 12 - Test\n",
        "\n",
        "# Hidden tests - you will see the results when you submit to Canvas"
      ]
    },
    {
      "cell_type": "markdown",
      "id": "6540c2d0",
      "metadata": {
        "deletable": false,
        "editable": false,
        "nbgrader": {
          "cell_type": "markdown",
          "checksum": "352cb32d5c9424c344cb4b4a45640872",
          "grade": false,
          "grade_id": "cell-a9f2fecc6bc02590",
          "locked": true,
          "schema_version": 3,
          "solution": false,
          "task": false
        },
        "id": "6540c2d0"
      },
      "source": [
        "**Additional Information about the texts used in this analysis:**\n",
        "\n",
        "You can find the raw text [here](https://github.com/LambdaSchool/data-science-practice-datasets/tree/main/unit_4/unit1_nlp). Document 0 (doc0) is chapters 1-3 from \"Pride and Predjudice\" by Jane Austen. Document 1 (doc1) is chapters 1- 4 from \"Frankenstein\" by Mary Shelley. Document 2 is also from \"Frankenstein\", chapters 11-14."
      ]
    },
    {
      "cell_type": "code",
      "execution_count": 134,
      "id": "090afb48",
      "metadata": {
        "id": "090afb48"
      },
      "outputs": [],
      "source": [
        ""
      ]
    }
  ],
  "metadata": {
    "kernelspec": {
      "display_name": "Python 3",
      "language": "python",
      "name": "python3"
    },
    "language_info": {
      "codemirror_mode": {
        "name": "ipython",
        "version": 3
      },
      "file_extension": ".py",
      "mimetype": "text/x-python",
      "name": "python",
      "nbconvert_exporter": "python",
      "pygments_lexer": "ipython3",
      "version": "3.8.8"
    },
    "colab": {
      "name": "DS_Unit1_Sprint3_AG_JD.ipynb",
      "provenance": [],
      "collapsed_sections": []
    }
  },
  "nbformat": 4,
  "nbformat_minor": 5
}